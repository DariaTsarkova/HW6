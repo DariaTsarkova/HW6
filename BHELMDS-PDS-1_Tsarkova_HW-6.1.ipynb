{
 "cells": [
  {
   "cell_type": "code",
   "execution_count": 3,
   "id": "bc34c6e0-efad-4202-b5bf-ac17bb4f7910",
   "metadata": {},
   "outputs": [],
   "source": [
    "import json"
   ]
  },
  {
   "cell_type": "code",
   "execution_count": 8,
   "id": "23e76f7c-a34e-4c6d-965c-62967755d3a4",
   "metadata": {},
   "outputs": [
    {
     "name": "stdout",
     "output_type": "stream",
     "text": [
      "user_id 'category'\n",
      "1840e0b9d4 'Продукты'\n",
      "4e4f90fcfb 'Электроника'\n"
     ]
    }
   ],
   "source": [
    "purchases = {} # создаем пустой словарь\n",
    "i = 0\n",
    "with open (r'C:\\Users\\Dasha\\Desktop\\Аналитика данных с МФТИ\\purchase_log.txt', encoding = 'utf-8') as f: # открывает файл в ОС Windows в кодировке UTF-8\n",
    "    for line in f:\n",
    "        line = line.strip() # удаляем перенос строк\n",
    "        dict_ = json.loads(line) # парсим каждую строку как json\n",
    "        key = dict_['user_id'] # определяем ключ как user_id\n",
    "        value = dict_['category'] # определяем значение как 'category'\n",
    "\n",
    "        purchases[key] = value # добавляем запись в словарь purchases\n",
    "        print (f\"{key} '{value}'\") # выводим первые значения для проверки\n",
    "        i += 1\n",
    "        if i > 2:\n",
    "            break"
   ]
  }
 ],
 "metadata": {
  "kernelspec": {
   "display_name": "Python 3 (ipykernel)",
   "language": "python",
   "name": "python3"
  },
  "language_info": {
   "codemirror_mode": {
    "name": "ipython",
    "version": 3
   },
   "file_extension": ".py",
   "mimetype": "text/x-python",
   "name": "python",
   "nbconvert_exporter": "python",
   "pygments_lexer": "ipython3",
   "version": "3.12.7"
  }
 },
 "nbformat": 4,
 "nbformat_minor": 5
}
